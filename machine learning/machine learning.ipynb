{
 "nbformat": 4,
 "nbformat_minor": 2,
 "metadata": {
  "language_info": {
   "name": "python",
   "codemirror_mode": {
    "name": "ipython",
    "version": 2
   },
   "version": "2.7.17-final"
  },
  "orig_nbformat": 2,
  "file_extension": ".py",
  "mimetype": "text/x-python",
  "name": "python",
  "npconvert_exporter": "python",
  "pygments_lexer": "ipython2",
  "version": 2,
  "kernelspec": {
   "name": "python271732bitb0c4d7198b644b17a9fa1547d038dfd6",
   "display_name": "Python 2.7.17 32-bit"
  }
 },
 "cells": [
  {
   "cell_type": "markdown",
   "metadata": {},
   "source": [
    "# *Expriment 1* \n",
    "## Machine Learning Software Tools\n",
    "### <u>1> TensorFlow :</u>\n",
    "TensorFlow offers a JS library that helps in machine learning development. Its APIs will help you to create and train the models.\n",
    "\n",
    "I think all the machine learning lovers who work with the machine learning applications know about the TensorFlow. It’s an open source machine learning library which helps you to develop your ML models. The Google team developed it. It has a flexible scheme of tools, libraries, and resources that allows researchers and developers to build and deploy machine learning applications.\n",
    "### <u>Features :</u>\n",
    "* Helps in building and training your models.\n",
    "* You can also run your existing models using TensorFlow.js which is a model converter.\n",
    "* It helps in neural network.\n",
    "* A full cycle deep learning system.\n",
    "* Train as well as build ML models effortlessly using high-level APIs like Keras with eager execution.\n",
    "* This is an open source software and highly flexible.\n",
    "* It can also perform numerical computations using data flow graphs.\n",
    "* Run on GPUs and CPUs, and also on various mobile computing platforms.\n",
    "* Efficiently deploy and train the model in the cloud. You can also use it in 2 ways, i.e. by installing through NPM or by\n",
    "script tags.\n",
    "* Tool Cost/Plan Details: Free\n",
    "\n",
    "### <u>2> Google Cloud ML Engine</u>\n",
    "If you’re training your classifier on a plenty of data, your PC or laptop might work quite well. However, if you have millions or billions of training data? Or, the algorithm is quite sophisticated and take a long time in proper execution? You should use Google Cloud ML Engine for your rescue. It is a hosted platform where machine learning app developers and data scientists create and run optimum quality machine learning models.\n",
    "\n",
    "### <u>Features :</u>\n",
    "* Provides machine learning model training, building, deep learning and predictive modeling.\n",
    "* The two services viz. prediction and training can be used independently or jointly.\n",
    "* This software is widely used by enterprises, i.e., detecting clouds in a satellite image Responding faster to emails of customers.\n",
    "* It can be widely used to train a complex model.\n",
    "\n",
    "### <u>3> Amazon Machine Learning (AML) :</u>\n",
    "Amazon Machine Learning (AML) is a cloud-based and robust machine learning software applications which can be used by all skill levels of web or mobile app developers. This managed service is widely used for creating machine learning models and generating predictions. In addition to this, it integrates data from multiple sources: Redshift, Amazon S3, or RDS.\n",
    "\n",
    "### <u>Features :</u>\n",
    "* Amazon Machine Learning provides wizards & visualization tools.\n",
    "* Supports three types of models, i.e., multi-class classification, binary classification, and regression.\n",
    "* Permits users in order to create a data source object from the MySQL database.\n",
    "* In addition to this, it permits users to build a data source object from the data stored in Amazon Redshift.\n",
    "* Fundamental concepts are ML models, Data sources, Evaluations, Real-time predictions and Batch predictions.\n",
    "\n",
    "### <u>4> Accord.NET :</u>\n",
    "It is a .Net machine learning framework which is combined with image and audio processing libraries written in C#. This framework consists of multiple libraries for a wide array of applications, i.e., pattern recognition, statistical data processing, and linear algebra. It includes the Accord.Statistics, Accord.Math, and Accord.MachineLearning.\n",
    "\n",
    "### <u>Features :</u>\n",
    "* Consists of more than 40 non-parametric and parametric estimation of statistical distributions.\n",
    "* Used for creating production-grade computer audition, computer vision, signal processing, and statistics apps.\n",
    "* Contains more than 35 hypothesis tests that include two-way and one way ANOVA tests, non-parametric tests such as the Kolmogorov-Smirnov test and many more.\n",
    "* It has more than 38 kernel functions.\n",
    "\n",
    "### <u>5> Google ML Kit for Mobile :</u>\n",
    "If you are a mobile app developer, then, Google’s AndroidTeam brings an ML KIT which packages up the expertise of machine learning and technology to create a more robust, optimized and personalized apps to run on a device. You can use this machine learning software tool for face detection, text recognition, landmark detection, image labeling, and barcode scanning applications.\n",
    "\n",
    "### <u>Features :</u>\n",
    "* It provides powerful technologies.\n",
    "* Running on-device or in the Cloud based on the specific\n",
    "requirements.\n",
    "* Uses out-of-the-box software development solutions or\n",
    "custom models.\n",
    "* The kit is an integration with Google’s Firebase mobile\n",
    "development platform."
   ]
  },
  {
   "cell_type": "markdown",
   "metadata": {},
   "source": [
    "# *Expriment 2*\n",
    "## Installation Of Machine Learning Library\n",
    "Machine Learning, as the name suggests, is the science of programming a computer by which they are able to learn from different kinds of data. A more general definition given by Arthur Samuel is – “Machine Learning is the field of study that gives computers the ability to learn without being explicitly programmed.” They are typically used to solve various types of life problems. In the older days, people used to perform Machine Learning tasks by manually coding all the algorithms and mathematical and statistical formula. This made the process time consuming, tedious and inefficient. But in the modern days, it is become very much easy and efficient compared to the olden days by various python libraries, frameworks, and modules. Today, Python is one of the most popular programming languages for this task and it has replaced many languages in the industry, one of the reason is its vast collection of libraries. Python libraries that used in Machine Learning are:\n",
    "* Numpy\n",
    "* Pandas\n",
    "* Matplotlib\n",
    "\n",
    "### <u>Numpy :</u>\n",
    "NumPy is a very popular python library for large multi-dimensional array and matrix processing,\n",
    "with the help of a large collection of high-level mathematical functions. It is very useful for\n",
    "fundamental scientific computations in Machine Learning. It is particularly useful for linear algebra, Fourier transform, and random number capabilities. High-end libraries like TensorFlow uses NumPy internally for manipulation of Tensors.\n",
    "\n",
    "### <u>Numpy installation :</u>\n",
    "\n",
    "```python\n",
    "pip install numpy\n",
    "```\n",
    "OR\n",
    "```python\n",
    "conda install numpy\n",
    "```\n",
    "### <u>Importing numpy:</u>\n",
    "```python\n",
    "import numpy as np\n",
    "```\n",
    "### <u>Pandas :</u>\n",
    "Pandas is a popular Python library for dataanalysis. It is not directly related to Machine Learning. As we know that the dataset must beprepared before training. In this case, Pandas\n",
    "comes handy as it was developed specifically for data extraction and preparation. It provides\n",
    "high-level data structures and wide variety tools for data analysis. It provides many inbuilt methods for groping, combining and filtering data. \n",
    "\n",
    "### <u>Pandas installation :</u>\n",
    "```python \n",
    "pip install pandas\n",
    "```\n",
    "OR\n",
    "```python\n",
    "conda install pandas\n",
    "```\n",
    "### <u>Importing pandas :</u>\n",
    "```python\n",
    "import pandas as pd\n",
    "```\n",
    "### <u>Matplotlib :</u>\n",
    "Matpoltlib is a very popular Python library for datavisualization. Like Pandas, it is not directly related to Machine Learning. It particularly comes in handy when a programmer wants to visualize the patterns in the data. It is a 2D plotting library used for creating 2D graphs and plots. A module named pyplot makes it easy for programmers for plotting as it provides features to control line styles, font properties, formatting axes, etc. It provides various\n",
    "kinds of graphs and plots for data visualization, viz., histogram, error charts, bar chats, etc.\n",
    "\n",
    "### <u>matplotlib installation :</u>\n",
    "```python\n",
    "pip install matplotlib\n",
    "```\n",
    "OR\n",
    "```python\n",
    "conda install matplotlib\n",
    "```\n",
    "### <u>Importing matplotlib :</u>\n",
    "```python\n",
    "import matplotlib.pyplot as plt\n",
    "```"
   ]
  },
  {
   "cell_type": "markdown",
   "metadata": {},
   "source": [
    "# *Expriment 1* \n",
    "### # _Random function using numpy in Python._"
   ]
  },
  {
   "cell_type": "code",
   "execution_count": 2,
   "metadata": {},
   "outputs": [
    {
     "name": "stdout",
     "output_type": "stream",
     "text": "[4.70357782 3.83755124 5.21301305 3.67749598 1.99627038]\n"
    }
   ],
   "source": [
    "import numpy as np\n",
    "num=np.random.normal(2,2,5)\n",
    "print num"
   ]
  },
  {
   "cell_type": "markdown",
   "metadata": {},
   "source": [
    "### # _Minimum Function_"
   ]
  },
  {
   "cell_type": "code",
   "execution_count": 3,
   "metadata": {},
   "outputs": [
    {
     "name": "stdout",
     "output_type": "stream",
     "text": "1.9962703807493156\n"
    }
   ],
   "source": [
    "min=np.min(num)\n",
    "print min"
   ]
  },
  {
   "cell_type": "markdown",
   "metadata": {},
   "source": [
    "### # _Maximum function_"
   ]
  },
  {
   "cell_type": "code",
   "execution_count": 4,
   "metadata": {},
   "outputs": [
    {
     "name": "stdout",
     "output_type": "stream",
     "text": "5.2130130513188035\n"
    }
   ],
   "source": [
    "max=np.max(num)\n",
    "print max"
   ]
  },
  {
   "cell_type": "markdown",
   "metadata": {},
   "source": [
    "### # _Mean function_"
   ]
  },
  {
   "cell_type": "code",
   "execution_count": 5,
   "metadata": {},
   "outputs": [
    {
     "name": "stdout",
     "output_type": "stream",
     "text": "3.8855816939657153\n"
    }
   ],
   "source": [
    "mean=np.mean(num)\n",
    "print mean"
   ]
  },
  {
   "cell_type": "markdown",
   "metadata": {},
   "source": [
    "### # _Median function_"
   ]
  },
  {
   "cell_type": "code",
   "execution_count": 6,
   "metadata": {},
   "outputs": [
    {
     "name": "stdout",
     "output_type": "stream",
     "text": "3.8375512413564055\n"
    }
   ],
   "source": [
    "median=np.median(num)\n",
    "print median"
   ]
  },
  {
   "cell_type": "markdown",
   "metadata": {},
   "source": [
    "### # _Standard Deviation_"
   ]
  },
  {
   "cell_type": "code",
   "execution_count": 7,
   "metadata": {},
   "outputs": [
    {
     "name": "stdout",
     "output_type": "stream",
     "text": "1.099663175195379\n"
    }
   ],
   "source": [
    "sd=np.std(num)\n",
    "print sd"
   ]
  },
  {
   "cell_type": "markdown",
   "metadata": {},
   "source": [
    "# *Expriment 4*"
   ]
  },
  {
   "cell_type": "code",
   "execution_count": 2,
   "metadata": {},
   "outputs": [
    {
     "name": "stdout",
     "output_type": "stream",
     "text": "Product      Price\n0  Desktop Computer    $700.00\n1            Tablet    $250.00\n2            iPhone    $800.00\n3            Laptop  $1,200.00\n"
    }
   ],
   "source": [
    "import pandas as pd\n",
    "df=pd.read_excel(r'product list.xlsx')\n",
    "print df"
   ]
  },
  {
   "cell_type": "code",
   "execution_count": null,
   "metadata": {},
   "outputs": [],
   "source": []
  }
 ]
}