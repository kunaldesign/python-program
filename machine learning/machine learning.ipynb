{
 "nbformat": 4,
 "nbformat_minor": 2,
 "metadata": {
  "language_info": {
   "name": "python",
   "codemirror_mode": {
    "name": "ipython",
    "version": 2
   },
   "version": "2.7.17-final"
  },
  "orig_nbformat": 2,
  "file_extension": ".py",
  "mimetype": "text/x-python",
  "name": "python",
  "npconvert_exporter": "python",
  "pygments_lexer": "ipython2",
  "version": 2,
  "kernelspec": {
   "name": "python271732bitb0c4d7198b644b17a9fa1547d038dfd6",
   "display_name": "Python 2.7.17 32-bit"
  }
 },
 "cells": [
  {
   "cell_type": "markdown",
   "metadata": {},
   "source": [
    "# *Expriment 1* \n",
    "## Machine Learning Software Tools\n",
    "### <u>1> TensorFlow :</u>\n",
    "TensorFlow offers a JS library that helps in machine learning development. Its APIs will help you to create and train the models.\n",
    "\n",
    "I think all the machine learning lovers who work with the machine learning applications know about the TensorFlow. It’s an open source machine learning library which helps you to develop your ML models. The Google team developed it. It has a flexible scheme of tools, libraries, and resources that allows researchers and developers to build and deploy machine learning applications.\n",
    "### <u>Features :</u>\n",
    "* Helps in building and training your models.\n",
    "* You can also run your existing models using TensorFlow.js which is a model converter.\n",
    "* It helps in neural network.\n",
    "* A full cycle deep learning system.\n",
    "* Train as well as build ML models effortlessly using high-level APIs like Keras with eager execution.\n",
    "* This is an open source software and highly flexible.\n",
    "* It can also perform numerical computations using data flow graphs.\n",
    "* Run on GPUs and CPUs, and also on various mobile computing platforms.\n",
    "* Efficiently deploy and train the model in the cloud. You can also use it in 2 ways, i.e. by installing through NPM or by\n",
    "script tags.\n",
    "* Tool Cost/Plan Details: Free\n",
    "\n",
    "### <u>2> Google Cloud ML Engine</u>\n",
    "If you’re training your classifier on a plenty of data, your PC or laptop might work quite well. However, if you have millions or billions of training data? Or, the algorithm is quite sophisticated and take a long time in proper execution? You should use Google Cloud ML Engine for your rescue. It is a hosted platform where machine learning app developers and data scientists create and run optimum quality machine learning models.\n",
    "\n",
    "### <u>Features :</u>\n",
    "* Provides machine learning model training, building, deep learning and predictive modeling.\n",
    "* The two services viz. prediction and training can be used independently or jointly.\n",
    "* This software is widely used by enterprises, i.e., detecting clouds in a satellite image Responding faster to emails of customers.\n",
    "* It can be widely used to train a complex model.\n",
    "\n",
    "### <u>3> Amazon Machine Learning (AML) :</u>\n",
    "Amazon Machine Learning (AML) is a cloud-based and robust machine learning software applications which can be used by all skill levels of web or mobile app developers. This managed service is widely used for creating machine learning models and generating predictions. In addition to this, it integrates data from multiple sources: Redshift, Amazon S3, or RDS.\n",
    "\n",
    "### <u>Features :</u>\n",
    "* Amazon Machine Learning provides wizards & visualization tools.\n",
    "* Supports three types of models, i.e., multi-class classification, binary classification, and regression.\n",
    "* Permits users in order to create a data source object from the MySQL database.\n",
    "* In addition to this, it permits users to build a data source object from the data stored in Amazon Redshift.\n",
    "* Fundamental concepts are ML models, Data sources, Evaluations, Real-time predictions and Batch predictions.\n",
    "\n",
    "### <u>4> Accord.NET :</u>\n",
    "It is a .Net machine learning framework which is combined with image and audio processing libraries written in C#. This framework consists of multiple libraries for a wide array of applications, i.e., pattern recognition, statistical data processing, and linear algebra. It includes the Accord.Statistics, Accord.Math, and Accord.MachineLearning.\n",
    "\n",
    "### <u>Features :</u>\n",
    "* Consists of more than 40 non-parametric and parametric estimation of statistical distributions.\n",
    "* Used for creating production-grade computer audition, computer vision, signal processing, and statistics apps.\n",
    "* Contains more than 35 hypothesis tests that include two-way and one way ANOVA tests, non-parametric tests such as the Kolmogorov-Smirnov test and many more.\n",
    "* It has more than 38 kernel functions.\n",
    "\n",
    "### <u>5> Google ML Kit for Mobile :</u>\n",
    "If you are a mobile app developer, then, Google’s AndroidTeam brings an ML KIT which packages up the expertise of machine learning and technology to create a more robust, optimized and personalized apps to run on a device. You can use this machine learning software tool for face detection, text recognition, landmark detection, image labeling, and barcode scanning applications.\n",
    "\n",
    "### <u>Features :</u>\n",
    "* It provides powerful technologies.\n",
    "* Running on-device or in the Cloud based on the specific\n",
    "requirements.\n",
    "* Uses out-of-the-box software development solutions or\n",
    "custom models.\n",
    "* The kit is an integration with Google’s Firebase mobile\n",
    "development platform."
   ]
  },
  {
   "cell_type": "markdown",
   "metadata": {},
   "source": [
    "# *Expriment 2*\n",
    "## Installation Of Machine Learning Library\n",
    "Machine Learning, as the name suggests, is the science of programming a computer by which they are able to learn from different kinds of data. A more general definition given by Arthur Samuel is – “Machine Learning is the field of study that gives computers the ability to learn without being explicitly programmed.” They are typically used to solve various types of life problems. In the older days, people used to perform Machine Learning tasks by manually coding all the algorithms and mathematical and statistical formula. This made the process time consuming, tedious and inefficient. But in the modern days, it is become very much easy and efficient compared to the olden days by various python libraries, frameworks, and modules. Today, Python is one of the most popular programming languages for this task and it has replaced many languages in the industry, one of the reason is its vast collection of libraries. Python libraries that used in Machine Learning are:\n",
    "* Numpy\n",
    "* Pandas\n",
    "* Matplotlib\n",
    "\n",
    "### <u>Numpy :</u>\n",
    "NumPy is a very popular python library for large multi-dimensional array and matrix processing,\n",
    "with the help of a large collection of high-level mathematical functions. It is very useful for\n",
    "fundamental scientific computations in Machine Learning. It is particularly useful for linear algebra, Fourier transform, and random number capabilities. High-end libraries like TensorFlow uses NumPy internally for manipulation of Tensors.\n",
    "\n",
    "### <u>Numpy installation :</u>\n",
    "\n",
    "```python\n",
    "pip install numpy\n",
    "```\n",
    "OR\n",
    "```python\n",
    "conda install numpy\n",
    "```\n",
    "### <u>Importing numpy:</u>\n",
    "```python\n",
    "import numpy as np\n",
    "```\n",
    "### <u>Pandas :</u>\n",
    "Pandas is a popular Python library for dataanalysis. It is not directly related to Machine Learning. As we know that the dataset must beprepared before training. In this case, Pandas\n",
    "comes handy as it was developed specifically for data extraction and preparation. It provides\n",
    "high-level data structures and wide variety tools for data analysis. It provides many inbuilt methods for groping, combining and filtering data. \n",
    "\n",
    "### <u>Pandas installation :</u>\n",
    "```python \n",
    "pip install pandas\n",
    "```\n",
    "OR\n",
    "```python\n",
    "conda install pandas\n",
    "```\n",
    "### <u>Importing pandas :</u>\n",
    "```python\n",
    "import pandas as pd\n",
    "```\n",
    "### <u>Matplotlib :</u>\n",
    "Matpoltlib is a very popular Python library for datavisualization. Like Pandas, it is not directly related to Machine Learning. It particularly comes in handy when a programmer wants to visualize the patterns in the data. It is a 2D plotting library used for creating 2D graphs and plots. A module named pyplot makes it easy for programmers for plotting as it provides features to control line styles, font properties, formatting axes, etc. It provides various\n",
    "kinds of graphs and plots for data visualization, viz., histogram, error charts, bar chats, etc.\n",
    "\n",
    "### <u>matplotlib installation :</u>\n",
    "```python\n",
    "pip install matplotlib\n",
    "```\n",
    "OR\n",
    "```python\n",
    "conda install matplotlib\n",
    "```\n",
    "### <u>Importing matplotlib :</u>\n",
    "```python\n",
    "import matplotlib.pyplot as plt\n",
    "```"
   ]
  },
  {
   "cell_type": "markdown",
   "metadata": {},
   "source": [
    "# *Expriment 1* \n",
    "### # _Random function using numpy in Python._"
   ]
  },
  {
   "cell_type": "code",
   "execution_count": 2,
   "metadata": {},
   "outputs": [
    {
     "name": "stdout",
     "output_type": "stream",
     "text": "[4.70357782 3.83755124 5.21301305 3.67749598 1.99627038]\n"
    }
   ],
   "source": [
    "import numpy as np\n",
    "num=np.random.normal(2,2,5)\n",
    "print num"
   ]
  },
  {
   "cell_type": "markdown",
   "metadata": {},
   "source": [
    "### # _Minimum Function_"
   ]
  },
  {
   "cell_type": "code",
   "execution_count": 3,
   "metadata": {},
   "outputs": [
    {
     "name": "stdout",
     "output_type": "stream",
     "text": "1.9962703807493156\n"
    }
   ],
   "source": [
    "min=np.min(num)\n",
    "print min"
   ]
  },
  {
   "cell_type": "markdown",
   "metadata": {},
   "source": [
    "### # _Maximum function_"
   ]
  },
  {
   "cell_type": "code",
   "execution_count": 4,
   "metadata": {},
   "outputs": [
    {
     "name": "stdout",
     "output_type": "stream",
     "text": "5.2130130513188035\n"
    }
   ],
   "source": [
    "max=np.max(num)\n",
    "print max"
   ]
  },
  {
   "cell_type": "markdown",
   "metadata": {},
   "source": [
    "### # _Mean function_"
   ]
  },
  {
   "cell_type": "code",
   "execution_count": 5,
   "metadata": {},
   "outputs": [
    {
     "name": "stdout",
     "output_type": "stream",
     "text": "3.8855816939657153\n"
    }
   ],
   "source": [
    "mean=np.mean(num)\n",
    "print mean"
   ]
  },
  {
   "cell_type": "markdown",
   "metadata": {},
   "source": [
    "### # _Median function_"
   ]
  },
  {
   "cell_type": "code",
   "execution_count": 6,
   "metadata": {},
   "outputs": [
    {
     "name": "stdout",
     "output_type": "stream",
     "text": "3.8375512413564055\n"
    }
   ],
   "source": [
    "median=np.median(num)\n",
    "print median"
   ]
  },
  {
   "cell_type": "markdown",
   "metadata": {},
   "source": [
    "### # _Standard Deviation_"
   ]
  },
  {
   "cell_type": "code",
   "execution_count": 7,
   "metadata": {},
   "outputs": [
    {
     "name": "stdout",
     "output_type": "stream",
     "text": "1.099663175195379\n"
    }
   ],
   "source": [
    "sd=np.std(num)\n",
    "print sd"
   ]
  },
  {
   "cell_type": "markdown",
   "metadata": {},
   "source": [
    "# *Expriment 4*\n",
    "### importing execl file in the python"
   ]
  },
  {
   "cell_type": "code",
   "execution_count": 2,
   "metadata": {},
   "outputs": [
    {
     "name": "stdout",
     "output_type": "stream",
     "text": "Product      Price\n0  Desktop Computer    $700.00\n1            Tablet    $250.00\n2            iPhone    $800.00\n3            Laptop  $1,200.00\n"
    }
   ],
   "source": [
    "import pandas as pd\n",
    "df=pd.read_excel(r'product list.xlsx')\n",
    "print df"
   ]
  },
  {
   "cell_type": "markdown",
   "metadata": {},
   "source": [
    "### TO perfrom statistical operations on dataset."
   ]
  },
  {
   "cell_type": "code",
   "execution_count": 1,
   "metadata": {},
   "outputs": [
    {
     "name": "stdout",
     "output_type": "stream",
     "text": "Name Department      Manager  Salary\n0     Robin Hood        NaN          NaN     200\n1  Arsene Wenger        Bar   Friar Tuck      50\n2     Friar Tuck        Foo   Robin Hood     100\n3    Little John        Foo   Robin Hood     100\n4  Sam Allardyce        NaN          NaN     250\n5  Dimi Berbatov        Foo  Little John      50\n"
    }
   ],
   "source": [
    "import numpy as np\n",
    "import pandas as pd\n",
    "\n",
    "dataset=pd.read_csv(\"employees.csv\")\n",
    "print dataset"
   ]
  },
  {
   "cell_type": "code",
   "execution_count": 2,
   "metadata": {},
   "outputs": [
    {
     "name": "stdout",
     "output_type": "stream",
     "text": "[200  50 100 100 250  50]\n"
    }
   ],
   "source": [
    "salary=np.array(dataset['Salary'])\n",
    "print salary"
   ]
  },
  {
   "cell_type": "code",
   "execution_count": 4,
   "metadata": {},
   "outputs": [
    {
     "name": "stdout",
     "output_type": "stream",
     "text": "Minimum salary:  50\nmaximum salary:  250\n"
    }
   ],
   "source": [
    "print \"Minimum salary: \",salary.min()\n",
    "print \"maximum salary: \",salary.max()"
   ]
  },
  {
   "cell_type": "code",
   "execution_count": 9,
   "metadata": {},
   "outputs": [
    {
     "name": "stdout",
     "output_type": "stream",
     "text": "[200  50 100 100 250  50]\n"
    },
    {
     "data": {
      "image/png": "[encoded data removed]",
      "image/svg+xml": "<?xml version=\"1.0\" encoding=\"utf-8\" standalone=\"no\"?>\n<!DOCTYPE svg PUBLIC \"-//W3C//DTD SVG 1.1//EN\"\n  \"http://www.w3.org/Graphics/SVG/1.1/DTD/svg11.dtd\">\n<!-- Created with matplotlib (http://matplotlib.org/) -->\n<svg height=\"281.250469pt\" version=\"1.1\" viewBox=\"0 0 401.222031 281.250469\" width=\"401.222031pt\" xmlns=\"http://www.w3.org/2000/svg\" xmlns:xlink=\"http://www.w3.org/1999/xlink\">\n <defs>\n  <style type=\"text/css\">\n*{stroke-linecap:butt;stroke-linejoin:round;}\n  </style>\n </defs>\n <g id=\"figure_1\">\n  <g id=\"patch_1\">\n   <path d=\"M 0 281.250469 \nL 401.222031 281.250469 \nL 401.222031 0 \nL 0 0 \nz\n\" style=\"fill:#ffffff;\"/>\n  </g>\n  <g id=\"axes_1\">\n   <g id=\"patch_2\">\n    <path d=\"M 53.222031 239.375625 \nL 388.022031 239.375625 \nL 388.022031 21.935625 \nL 53.222031 21.935625 \nz\n\" style=\"fill:#eaeaf2;\"/>\n   </g>\n   <g id=\"matplotlib.axis_1\">\n    <g id=\"xtick_1\">\n     <g id=\"line2d_1\">\n      <path clip-path=\"url(#p796a633345)\" d=\"M 68.440213 239.375625 \nL 68.440213 21.935625 \n\" style=\"fill:none;stroke:#ffffff;stroke-linecap:round;\"/>\n     </g>\n     <g id=\"text_1\">\n      <!-- 50 -->\n      <defs>\n       <path d=\"M 4.15625 18.75 \nL 13.375 19.53125 \nQ 14.40625 12.796875 18.140625 9.390625 \nQ 21.875 6 27.15625 6 \nQ 33.5 6 37.890625 10.78125 \nQ 42.28125 15.578125 42.28125 23.484375 \nQ 42.28125 31 38.0625 35.34375 \nQ 33.84375 39.703125 27 39.703125 \nQ 22.75 39.703125 19.328125 37.765625 \nQ 15.921875 35.84375 13.96875 32.765625 \nL 5.71875 33.84375 \nL 12.640625 70.609375 \nL 48.25 70.609375 \nL 48.25 62.203125 \nL 19.671875 62.203125 \nL 15.828125 42.96875 \nQ 22.265625 47.46875 29.34375 47.46875 \nQ 38.71875 47.46875 45.15625 40.96875 \nQ 51.609375 34.46875 51.609375 24.265625 \nQ 51.609375 14.546875 45.953125 7.46875 \nQ 39.0625 -1.21875 27.15625 -1.21875 \nQ 17.390625 -1.21875 11.203125 4.25 \nQ 5.03125 9.71875 4.15625 18.75 \nz\n\" id=\"ArialMT-35\"/>\n       <path d=\"M 4.15625 35.296875 \nQ 4.15625 48 6.765625 55.734375 \nQ 9.375 63.484375 14.515625 67.671875 \nQ 19.671875 71.875 27.484375 71.875 \nQ 33.25 71.875 37.59375 69.546875 \nQ 41.9375 67.234375 44.765625 62.859375 \nQ 47.609375 58.5 49.21875 52.21875 \nQ 50.828125 45.953125 50.828125 35.296875 \nQ 50.828125 22.703125 48.234375 14.96875 \nQ 45.65625 7.234375 40.5 3 \nQ 35.359375 -1.21875 27.484375 -1.21875 \nQ 17.140625 -1.21875 11.234375 6.203125 \nQ 4.15625 15.140625 4.15625 35.296875 \nz\nM 13.1875 35.296875 \nQ 13.1875 17.671875 17.3125 11.828125 \nQ 21.4375 6 27.484375 6 \nQ 33.546875 6 37.671875 11.859375 \nQ 41.796875 17.71875 41.796875 35.296875 \nQ 41.796875 52.984375 37.671875 58.78125 \nQ 33.546875 64.59375 27.390625 64.59375 \nQ 21.34375 64.59375 17.71875 59.46875 \nQ 13.1875 52.9375 13.1875 35.296875 \nz\n\" id=\"ArialMT-30\"/>\n      </defs>\n      <g style=\"fill:#262626;\" transform=\"translate(62.323182 256.749219)scale(0.11 -0.11)\">\n       <use xlink:href=\"#ArialMT-35\"/>\n       <use x=\"55.615234\" xlink:href=\"#ArialMT-30\"/>\n      </g>\n     </g>\n    </g>\n    <g id=\"xtick_2\">\n     <g id=\"line2d_2\">\n      <path clip-path=\"url(#p796a633345)\" d=\"M 106.485668 239.375625 \nL 106.485668 21.935625 \n\" style=\"fill:none;stroke:#ffffff;stroke-linecap:round;\"/>\n     </g>\n     <g id=\"text_2\">\n      <!-- 75 -->\n      <defs>\n       <path d=\"M 4.734375 62.203125 \nL 4.734375 70.65625 \nL 51.078125 70.65625 \nL 51.078125 63.8125 \nQ 44.234375 56.546875 37.515625 44.484375 \nQ 30.8125 32.421875 27.15625 19.671875 \nQ 24.515625 10.6875 23.78125 0 \nL 14.75 0 \nQ 14.890625 8.453125 18.0625 20.40625 \nQ 21.234375 32.375 27.171875 43.484375 \nQ 33.109375 54.59375 39.796875 62.203125 \nz\n\" id=\"ArialMT-37\"/>\n      </defs>\n      <g style=\"fill:#262626;\" transform=\"translate(100.368636 256.749219)scale(0.11 -0.11)\">\n       <use xlink:href=\"#ArialMT-37\"/>\n       <use x=\"55.615234\" xlink:href=\"#ArialMT-35\"/>\n      </g>\n     </g>\n    </g>\n    <g id=\"xtick_3\">\n     <g id=\"line2d_3\">\n      <path clip-path=\"url(#p796a633345)\" d=\"M 144.531122 239.375625 \nL 144.531122 21.935625 \n\" style=\"fill:none;stroke:#ffffff;stroke-linecap:round;\"/>\n     </g>\n     <g id=\"text_3\">\n      <!-- 100 -->\n      <defs>\n       <path d=\"M 37.25 0 \nL 28.46875 0 \nL 28.46875 56 \nQ 25.296875 52.984375 20.140625 49.953125 \nQ 14.984375 46.921875 10.890625 45.40625 \nL 10.890625 53.90625 \nQ 18.265625 57.375 23.78125 62.296875 \nQ 29.296875 67.234375 31.59375 71.875 \nL 37.25 71.875 \nz\n\" id=\"ArialMT-31\"/>\n      </defs>\n      <g style=\"fill:#262626;\" transform=\"translate(135.355575 256.749219)scale(0.11 -0.11)\">\n       <use xlink:href=\"#ArialMT-31\"/>\n       <use x=\"55.615234\" xlink:href=\"#ArialMT-30\"/>\n       <use x=\"111.230469\" xlink:href=\"#ArialMT-30\"/>\n      </g>\n     </g>\n    </g>\n    <g id=\"xtick_4\">\n     <g id=\"line2d_4\">\n      <path clip-path=\"url(#p796a633345)\" d=\"M 182.576577 239.375625 \nL 182.576577 21.935625 \n\" style=\"fill:none;stroke:#ffffff;stroke-linecap:round;\"/>\n     </g>\n     <g id=\"text_4\">\n      <!-- 125 -->\n      <defs>\n       <path d=\"M 50.34375 8.453125 \nL 50.34375 0 \nL 3.03125 0 \nQ 2.9375 3.171875 4.046875 6.109375 \nQ 5.859375 10.9375 9.828125 15.625 \nQ 13.8125 20.3125 21.34375 26.46875 \nQ 33.015625 36.03125 37.109375 41.625 \nQ 41.21875 47.21875 41.21875 52.203125 \nQ 41.21875 57.421875 37.46875 61 \nQ 33.734375 64.59375 27.734375 64.59375 \nQ 21.390625 64.59375 17.578125 60.78125 \nQ 13.765625 56.984375 13.71875 50.25 \nL 4.6875 51.171875 \nQ 5.609375 61.28125 11.65625 66.578125 \nQ 17.71875 71.875 27.9375 71.875 \nQ 38.234375 71.875 44.234375 66.15625 \nQ 50.25 60.453125 50.25 52 \nQ 50.25 47.703125 48.484375 43.546875 \nQ 46.734375 39.40625 42.65625 34.8125 \nQ 38.578125 30.21875 29.109375 22.21875 \nQ 21.1875 15.578125 18.9375 13.203125 \nQ 16.703125 10.84375 15.234375 8.453125 \nz\n\" id=\"ArialMT-32\"/>\n      </defs>\n      <g style=\"fill:#262626;\" transform=\"translate(173.40103 256.749219)scale(0.11 -0.11)\">\n       <use xlink:href=\"#ArialMT-31\"/>\n       <use x=\"55.615234\" xlink:href=\"#ArialMT-32\"/>\n       <use x=\"111.230469\" xlink:href=\"#ArialMT-35\"/>\n      </g>\n     </g>\n    </g>\n    <g id=\"xtick_5\">\n     <g id=\"line2d_5\">\n      <path clip-path=\"url(#p796a633345)\" d=\"M 220.622031 239.375625 \nL 220.622031 21.935625 \n\" style=\"fill:none;stroke:#ffffff;stroke-linecap:round;\"/>\n     </g>\n     <g id=\"text_5\">\n      <!-- 150 -->\n      <g style=\"fill:#262626;\" transform=\"translate(211.446484 256.749219)scale(0.11 -0.11)\">\n       <use xlink:href=\"#ArialMT-31\"/>\n       <use x=\"55.615234\" xlink:href=\"#ArialMT-35\"/>\n       <use x=\"111.230469\" xlink:href=\"#ArialMT-30\"/>\n      </g>\n     </g>\n    </g>\n    <g id=\"xtick_6\">\n     <g id=\"line2d_6\">\n      <path clip-path=\"url(#p796a633345)\" d=\"M 258.667486 239.375625 \nL 258.667486 21.935625 \n\" style=\"fill:none;stroke:#ffffff;stroke-linecap:round;\"/>\n     </g>\n     <g id=\"text_6\">\n      <!-- 175 -->\n      <g style=\"fill:#262626;\" transform=\"translate(249.491939 256.749219)scale(0.11 -0.11)\">\n       <use xlink:href=\"#ArialMT-31\"/>\n       <use x=\"55.615234\" xlink:href=\"#ArialMT-37\"/>\n       <use x=\"111.230469\" xlink:href=\"#ArialMT-35\"/>\n      </g>\n     </g>\n    </g>\n    <g id=\"xtick_7\">\n     <g id=\"line2d_7\">\n      <path clip-path=\"url(#p796a633345)\" d=\"M 296.71294 239.375625 \nL 296.71294 21.935625 \n\" style=\"fill:none;stroke:#ffffff;stroke-linecap:round;\"/>\n     </g>\n     <g id=\"text_7\">\n      <!-- 200 -->\n      <g style=\"fill:#262626;\" transform=\"translate(287.537393 256.749219)scale(0.11 -0.11)\">\n       <use xlink:href=\"#ArialMT-32\"/>\n       <use x=\"55.615234\" xlink:href=\"#ArialMT-30\"/>\n       <use x=\"111.230469\" xlink:href=\"#ArialMT-30\"/>\n      </g>\n     </g>\n    </g>\n    <g id=\"xtick_8\">\n     <g id=\"line2d_8\">\n      <path clip-path=\"url(#p796a633345)\" d=\"M 334.758395 239.375625 \nL 334.758395 21.935625 \n\" style=\"fill:none;stroke:#ffffff;stroke-linecap:round;\"/>\n     </g>\n     <g id=\"text_8\">\n      <!-- 225 -->\n      <g style=\"fill:#262626;\" transform=\"translate(325.582848 256.749219)scale(0.11 -0.11)\">\n       <use xlink:href=\"#ArialMT-32\"/>\n       <use x=\"55.615234\" xlink:href=\"#ArialMT-32\"/>\n       <use x=\"111.230469\" xlink:href=\"#ArialMT-35\"/>\n      </g>\n     </g>\n    </g>\n    <g id=\"xtick_9\">\n     <g id=\"line2d_9\">\n      <path clip-path=\"url(#p796a633345)\" d=\"M 372.803849 239.375625 \nL 372.803849 21.935625 \n\" style=\"fill:none;stroke:#ffffff;stroke-linecap:round;\"/>\n     </g>\n     <g id=\"text_9\">\n      <!-- 250 -->\n      <g style=\"fill:#262626;\" transform=\"translate(363.628303 256.749219)scale(0.11 -0.11)\">\n       <use xlink:href=\"#ArialMT-32\"/>\n       <use x=\"55.615234\" xlink:href=\"#ArialMT-35\"/>\n       <use x=\"111.230469\" xlink:href=\"#ArialMT-30\"/>\n      </g>\n     </g>\n    </g>\n    <g id=\"text_10\">\n     <!-- salary -->\n     <defs>\n      <path d=\"M 3.078125 15.484375 \nL 11.765625 16.84375 \nQ 12.5 11.625 15.84375 8.84375 \nQ 19.1875 6.0625 25.203125 6.0625 \nQ 31.25 6.0625 34.171875 8.515625 \nQ 37.109375 10.984375 37.109375 14.3125 \nQ 37.109375 17.28125 34.515625 19 \nQ 32.71875 20.171875 25.53125 21.96875 \nQ 15.875 24.421875 12.140625 26.203125 \nQ 8.40625 27.984375 6.46875 31.125 \nQ 4.546875 34.28125 4.546875 38.09375 \nQ 4.546875 41.546875 6.125 44.5 \nQ 7.71875 47.46875 10.453125 49.421875 \nQ 12.5 50.921875 16.03125 51.96875 \nQ 19.578125 53.03125 23.640625 53.03125 \nQ 29.734375 53.03125 34.34375 51.265625 \nQ 38.96875 49.515625 41.15625 46.5 \nQ 43.359375 43.5 44.1875 38.484375 \nL 35.59375 37.3125 \nQ 35.015625 41.3125 32.203125 43.546875 \nQ 29.390625 45.796875 24.265625 45.796875 \nQ 18.21875 45.796875 15.625 43.796875 \nQ 13.03125 41.796875 13.03125 39.109375 \nQ 13.03125 37.40625 14.109375 36.03125 \nQ 15.1875 34.625 17.484375 33.6875 \nQ 18.796875 33.203125 25.25 31.453125 \nQ 34.578125 28.953125 38.25 27.359375 \nQ 41.9375 25.78125 44.03125 22.75 \nQ 46.140625 19.734375 46.140625 15.234375 \nQ 46.140625 10.84375 43.578125 6.953125 \nQ 41.015625 3.078125 36.171875 0.953125 \nQ 31.34375 -1.171875 25.25 -1.171875 \nQ 15.140625 -1.171875 9.84375 3.03125 \nQ 4.546875 7.234375 3.078125 15.484375 \nz\n\" id=\"ArialMT-73\"/>\n      <path d=\"M 40.4375 6.390625 \nQ 35.546875 2.25 31.03125 0.53125 \nQ 26.515625 -1.171875 21.34375 -1.171875 \nQ 12.796875 -1.171875 8.203125 3 \nQ 3.609375 7.171875 3.609375 13.671875 \nQ 3.609375 17.484375 5.34375 20.625 \nQ 7.078125 23.78125 9.890625 25.6875 \nQ 12.703125 27.59375 16.21875 28.5625 \nQ 18.796875 29.25 24.03125 29.890625 \nQ 34.671875 31.15625 39.703125 32.90625 \nQ 39.75 34.71875 39.75 35.203125 \nQ 39.75 40.578125 37.25 42.78125 \nQ 33.890625 45.75 27.25 45.75 \nQ 21.046875 45.75 18.09375 43.578125 \nQ 15.140625 41.40625 13.71875 35.890625 \nL 5.125 37.0625 \nQ 6.296875 42.578125 8.984375 45.96875 \nQ 11.671875 49.359375 16.75 51.1875 \nQ 21.828125 53.03125 28.515625 53.03125 \nQ 35.15625 53.03125 39.296875 51.46875 \nQ 43.453125 49.90625 45.40625 47.53125 \nQ 47.359375 45.171875 48.140625 41.546875 \nQ 48.578125 39.3125 48.578125 33.453125 \nL 48.578125 21.734375 \nQ 48.578125 9.46875 49.140625 6.21875 \nQ 49.703125 2.984375 51.375 0 \nL 42.1875 0 \nQ 40.828125 2.734375 40.4375 6.390625 \nz\nM 39.703125 26.03125 \nQ 34.90625 24.078125 25.34375 22.703125 \nQ 19.921875 21.921875 17.671875 20.9375 \nQ 15.4375 19.96875 14.203125 18.09375 \nQ 12.984375 16.21875 12.984375 13.921875 \nQ 12.984375 10.40625 15.640625 8.0625 \nQ 18.3125 5.71875 23.4375 5.71875 \nQ 28.515625 5.71875 32.46875 7.9375 \nQ 36.421875 10.15625 38.28125 14.015625 \nQ 39.703125 17 39.703125 22.796875 \nz\n\" id=\"ArialMT-61\"/>\n      <path d=\"M 6.390625 0 \nL 6.390625 71.578125 \nL 15.1875 71.578125 \nL 15.1875 0 \nz\n\" id=\"ArialMT-6c\"/>\n      <path d=\"M 6.5 0 \nL 6.5 51.859375 \nL 14.40625 51.859375 \nL 14.40625 44 \nQ 17.4375 49.515625 20 51.265625 \nQ 22.5625 53.03125 25.640625 53.03125 \nQ 30.078125 53.03125 34.671875 50.203125 \nL 31.640625 42.046875 \nQ 28.421875 43.953125 25.203125 43.953125 \nQ 22.3125 43.953125 20.015625 42.21875 \nQ 17.71875 40.484375 16.75 37.40625 \nQ 15.28125 32.71875 15.28125 27.15625 \nL 15.28125 0 \nz\n\" id=\"ArialMT-72\"/>\n      <path d=\"M 6.203125 -19.96875 \nL 5.21875 -11.71875 \nQ 8.109375 -12.5 10.25 -12.5 \nQ 13.1875 -12.5 14.9375 -11.515625 \nQ 16.703125 -10.546875 17.828125 -8.796875 \nQ 18.65625 -7.46875 20.515625 -2.25 \nQ 20.75 -1.515625 21.296875 -0.09375 \nL 1.609375 51.859375 \nL 11.078125 51.859375 \nL 21.875 21.828125 \nQ 23.96875 16.109375 25.640625 9.8125 \nQ 27.15625 15.875 29.25 21.625 \nL 40.328125 51.859375 \nL 49.125 51.859375 \nL 29.390625 -0.875 \nQ 26.21875 -9.421875 24.46875 -12.640625 \nQ 22.125 -17 19.09375 -19.015625 \nQ 16.0625 -21.046875 11.859375 -21.046875 \nQ 9.328125 -21.046875 6.203125 -19.96875 \nz\n\" id=\"ArialMT-79\"/>\n     </defs>\n     <g style=\"fill:#262626;\" transform=\"translate(204.617969 271.524844)scale(0.12 -0.12)\">\n      <use xlink:href=\"#ArialMT-73\"/>\n      <use x=\"50\" xlink:href=\"#ArialMT-61\"/>\n      <use x=\"105.615234\" xlink:href=\"#ArialMT-6c\"/>\n      <use x=\"127.832031\" xlink:href=\"#ArialMT-61\"/>\n      <use x=\"183.447266\" xlink:href=\"#ArialMT-72\"/>\n      <use x=\"216.748047\" xlink:href=\"#ArialMT-79\"/>\n     </g>\n    </g>\n   </g>\n   <g id=\"matplotlib.axis_2\">\n    <g id=\"ytick_1\">\n     <g id=\"line2d_10\">\n      <path clip-path=\"url(#p796a633345)\" d=\"M 53.222031 239.375625 \nL 388.022031 239.375625 \n\" style=\"fill:none;stroke:#ffffff;stroke-linecap:round;\"/>\n     </g>\n     <g id=\"text_11\">\n      <!-- 0.00 -->\n      <defs>\n       <path d=\"M 9.078125 0 \nL 9.078125 10.015625 \nL 19.09375 10.015625 \nL 19.09375 0 \nz\n\" id=\"ArialMT-2e\"/>\n      </defs>\n      <g style=\"fill:#262626;\" transform=\"translate(22.315 243.312422)scale(0.11 -0.11)\">\n       <use xlink:href=\"#ArialMT-30\"/>\n       <use x=\"55.615234\" xlink:href=\"#ArialMT-2e\"/>\n       <use x=\"83.398438\" xlink:href=\"#ArialMT-30\"/>\n       <use x=\"139.013672\" xlink:href=\"#ArialMT-30\"/>\n      </g>\n     </g>\n    </g>\n    <g id=\"ytick_2\">\n     <g id=\"line2d_11\">\n      <path clip-path=\"url(#p796a633345)\" d=\"M 53.222031 213.489911 \nL 388.022031 213.489911 \n\" style=\"fill:none;stroke:#ffffff;stroke-linecap:round;\"/>\n     </g>\n     <g id=\"text_12\">\n      <!-- 0.25 -->\n      <g style=\"fill:#262626;\" transform=\"translate(22.315 217.426708)scale(0.11 -0.11)\">\n       <use xlink:href=\"#ArialMT-30\"/>\n       <use x=\"55.615234\" xlink:href=\"#ArialMT-2e\"/>\n       <use x=\"83.398438\" xlink:href=\"#ArialMT-32\"/>\n       <use x=\"139.013672\" xlink:href=\"#ArialMT-35\"/>\n      </g>\n     </g>\n    </g>\n    <g id=\"ytick_3\">\n     <g id=\"line2d_12\">\n      <path clip-path=\"url(#p796a633345)\" d=\"M 53.222031 187.604196 \nL 388.022031 187.604196 \n\" style=\"fill:none;stroke:#ffffff;stroke-linecap:round;\"/>\n     </g>\n     <g id=\"text_13\">\n      <!-- 0.50 -->\n      <g style=\"fill:#262626;\" transform=\"translate(22.315 191.540993)scale(0.11 -0.11)\">\n       <use xlink:href=\"#ArialMT-30\"/>\n       <use x=\"55.615234\" xlink:href=\"#ArialMT-2e\"/>\n       <use x=\"83.398438\" xlink:href=\"#ArialMT-35\"/>\n       <use x=\"139.013672\" xlink:href=\"#ArialMT-30\"/>\n      </g>\n     </g>\n    </g>\n    <g id=\"ytick_4\">\n     <g id=\"line2d_13\">\n      <path clip-path=\"url(#p796a633345)\" d=\"M 53.222031 161.718482 \nL 388.022031 161.718482 \n\" style=\"fill:none;stroke:#ffffff;stroke-linecap:round;\"/>\n     </g>\n     <g id=\"text_14\">\n      <!-- 0.75 -->\n      <g style=\"fill:#262626;\" transform=\"translate(22.315 165.655279)scale(0.11 -0.11)\">\n       <use xlink:href=\"#ArialMT-30\"/>\n       <use x=\"55.615234\" xlink:href=\"#ArialMT-2e\"/>\n       <use x=\"83.398438\" xlink:href=\"#ArialMT-37\"/>\n       <use x=\"139.013672\" xlink:href=\"#ArialMT-35\"/>\n      </g>\n     </g>\n    </g>\n    <g id=\"ytick_5\">\n     <g id=\"line2d_14\">\n      <path clip-path=\"url(#p796a633345)\" d=\"M 53.222031 135.832768 \nL 388.022031 135.832768 \n\" style=\"fill:none;stroke:#ffffff;stroke-linecap:round;\"/>\n     </g>\n     <g id=\"text_15\">\n      <!-- 1.00 -->\n      <g style=\"fill:#262626;\" transform=\"translate(22.315 139.769565)scale(0.11 -0.11)\">\n       <use xlink:href=\"#ArialMT-31\"/>\n       <use x=\"55.615234\" xlink:href=\"#ArialMT-2e\"/>\n       <use x=\"83.398438\" xlink:href=\"#ArialMT-30\"/>\n       <use x=\"139.013672\" xlink:href=\"#ArialMT-30\"/>\n      </g>\n     </g>\n    </g>\n    <g id=\"ytick_6\">\n     <g id=\"line2d_15\">\n      <path clip-path=\"url(#p796a633345)\" d=\"M 53.222031 109.947054 \nL 388.022031 109.947054 \n\" style=\"fill:none;stroke:#ffffff;stroke-linecap:round;\"/>\n     </g>\n     <g id=\"text_16\">\n      <!-- 1.25 -->\n      <g style=\"fill:#262626;\" transform=\"translate(22.315 113.88385)scale(0.11 -0.11)\">\n       <use xlink:href=\"#ArialMT-31\"/>\n       <use x=\"55.615234\" xlink:href=\"#ArialMT-2e\"/>\n       <use x=\"83.398438\" xlink:href=\"#ArialMT-32\"/>\n       <use x=\"139.013672\" xlink:href=\"#ArialMT-35\"/>\n      </g>\n     </g>\n    </g>\n    <g id=\"ytick_7\">\n     <g id=\"line2d_16\">\n      <path clip-path=\"url(#p796a633345)\" d=\"M 53.222031 84.061339 \nL 388.022031 84.061339 \n\" style=\"fill:none;stroke:#ffffff;stroke-linecap:round;\"/>\n     </g>\n     <g id=\"text_17\">\n      <!-- 1.50 -->\n      <g style=\"fill:#262626;\" transform=\"translate(22.315 87.998136)scale(0.11 -0.11)\">\n       <use xlink:href=\"#ArialMT-31\"/>\n       <use x=\"55.615234\" xlink:href=\"#ArialMT-2e\"/>\n       <use x=\"83.398438\" xlink:href=\"#ArialMT-35\"/>\n       <use x=\"139.013672\" xlink:href=\"#ArialMT-30\"/>\n      </g>\n     </g>\n    </g>\n    <g id=\"ytick_8\">\n     <g id=\"line2d_17\">\n      <path clip-path=\"url(#p796a633345)\" d=\"M 53.222031 58.175625 \nL 388.022031 58.175625 \n\" style=\"fill:none;stroke:#ffffff;stroke-linecap:round;\"/>\n     </g>\n     <g id=\"text_18\">\n      <!-- 1.75 -->\n      <g style=\"fill:#262626;\" transform=\"translate(22.315 62.112422)scale(0.11 -0.11)\">\n       <use xlink:href=\"#ArialMT-31\"/>\n       <use x=\"55.615234\" xlink:href=\"#ArialMT-2e\"/>\n       <use x=\"83.398438\" xlink:href=\"#ArialMT-37\"/>\n       <use x=\"139.013672\" xlink:href=\"#ArialMT-35\"/>\n      </g>\n     </g>\n    </g>\n    <g id=\"ytick_9\">\n     <g id=\"line2d_18\">\n      <path clip-path=\"url(#p796a633345)\" d=\"M 53.222031 32.289911 \nL 388.022031 32.289911 \n\" style=\"fill:none;stroke:#ffffff;stroke-linecap:round;\"/>\n     </g>\n     <g id=\"text_19\">\n      <!-- 2.00 -->\n      <g style=\"fill:#262626;\" transform=\"translate(22.315 36.226708)scale(0.11 -0.11)\">\n       <use xlink:href=\"#ArialMT-32\"/>\n       <use x=\"55.615234\" xlink:href=\"#ArialMT-2e\"/>\n       <use x=\"83.398438\" xlink:href=\"#ArialMT-30\"/>\n       <use x=\"139.013672\" xlink:href=\"#ArialMT-30\"/>\n      </g>\n     </g>\n    </g>\n    <g id=\"text_20\">\n     <!-- salary -->\n     <g style=\"fill:#262626;\" transform=\"translate(15.789375 146.659687)rotate(-90)scale(0.12 -0.12)\">\n      <use xlink:href=\"#ArialMT-73\"/>\n      <use x=\"50\" xlink:href=\"#ArialMT-61\"/>\n      <use x=\"105.615234\" xlink:href=\"#ArialMT-6c\"/>\n      <use x=\"127.832031\" xlink:href=\"#ArialMT-61\"/>\n      <use x=\"183.447266\" xlink:href=\"#ArialMT-72\"/>\n      <use x=\"216.748047\" xlink:href=\"#ArialMT-79\"/>\n     </g>\n    </g>\n   </g>\n   <g id=\"patch_3\">\n    <path clip-path=\"url(#p796a633345)\" d=\"M 68.440213 239.375625 \nL 98.876577 239.375625 \nL 98.876577 32.289911 \nL 68.440213 32.289911 \nz\n\" style=\"fill:#4c72b0;stroke:#ffffff;stroke-linejoin:miter;\"/>\n   </g>\n   <g id=\"patch_4\">\n    <path clip-path=\"url(#p796a633345)\" d=\"M 98.876577 239.375625 \nL 129.31294 239.375625 \nL 129.31294 239.375625 \nL 98.876577 239.375625 \nz\n\" style=\"fill:#4c72b0;stroke:#ffffff;stroke-linejoin:miter;\"/>\n   </g>\n   <g id=\"patch_5\">\n    <path clip-path=\"url(#p796a633345)\" d=\"M 129.31294 239.375625 \nL 159.749304 239.375625 \nL 159.749304 32.289911 \nL 129.31294 32.289911 \nz\n\" style=\"fill:#4c72b0;stroke:#ffffff;stroke-linejoin:miter;\"/>\n   </g>\n   <g id=\"patch_6\">\n    <path clip-path=\"url(#p796a633345)\" d=\"M 159.749304 239.375625 \nL 190.185668 239.375625 \nL 190.185668 239.375625 \nL 159.749304 239.375625 \nz\n\" style=\"fill:#4c72b0;stroke:#ffffff;stroke-linejoin:miter;\"/>\n   </g>\n   <g id=\"patch_7\">\n    <path clip-path=\"url(#p796a633345)\" d=\"M 190.185668 239.375625 \nL 220.622031 239.375625 \nL 220.622031 239.375625 \nL 190.185668 239.375625 \nz\n\" style=\"fill:#4c72b0;stroke:#ffffff;stroke-linejoin:miter;\"/>\n   </g>\n   <g id=\"patch_8\">\n    <path clip-path=\"url(#p796a633345)\" d=\"M 220.622031 239.375625 \nL 251.058395 239.375625 \nL 251.058395 239.375625 \nL 220.622031 239.375625 \nz\n\" style=\"fill:#4c72b0;stroke:#ffffff;stroke-linejoin:miter;\"/>\n   </g>\n   <g id=\"patch_9\">\n    <path clip-path=\"url(#p796a633345)\" d=\"M 251.058395 239.375625 \nL 281.494759 239.375625 \nL 281.494759 239.375625 \nL 251.058395 239.375625 \nz\n\" style=\"fill:#4c72b0;stroke:#ffffff;stroke-linejoin:miter;\"/>\n   </g>\n   <g id=\"patch_10\">\n    <path clip-path=\"url(#p796a633345)\" d=\"M 281.494759 239.375625 \nL 311.931122 239.375625 \nL 311.931122 135.832768 \nL 281.494759 135.832768 \nz\n\" style=\"fill:#4c72b0;stroke:#ffffff;stroke-linejoin:miter;\"/>\n   </g>\n   <g id=\"patch_11\">\n    <path clip-path=\"url(#p796a633345)\" d=\"M 311.931122 239.375625 \nL 342.367486 239.375625 \nL 342.367486 239.375625 \nL 311.931122 239.375625 \nz\n\" style=\"fill:#4c72b0;stroke:#ffffff;stroke-linejoin:miter;\"/>\n   </g>\n   <g id=\"patch_12\">\n    <path clip-path=\"url(#p796a633345)\" d=\"M 342.367486 239.375625 \nL 372.803849 239.375625 \nL 372.803849 135.832768 \nL 342.367486 135.832768 \nz\n\" style=\"fill:#4c72b0;stroke:#ffffff;stroke-linejoin:miter;\"/>\n   </g>\n   <g id=\"patch_13\">\n    <path d=\"M 53.222031 239.375625 \nL 53.222031 21.935625 \n\" style=\"fill:none;stroke:#ffffff;stroke-linecap:square;stroke-linejoin:miter;stroke-width:1.25;\"/>\n   </g>\n   <g id=\"patch_14\">\n    <path d=\"M 388.022031 239.375625 \nL 388.022031 21.935625 \n\" style=\"fill:none;stroke:#ffffff;stroke-linecap:square;stroke-linejoin:miter;stroke-width:1.25;\"/>\n   </g>\n   <g id=\"patch_15\">\n    <path d=\"M 53.222031 239.375625 \nL 388.022031 239.375625 \n\" style=\"fill:none;stroke:#ffffff;stroke-linecap:square;stroke-linejoin:miter;stroke-width:1.25;\"/>\n   </g>\n   <g id=\"patch_16\">\n    <path d=\"M 53.222031 21.935625 \nL 388.022031 21.935625 \n\" style=\"fill:none;stroke:#ffffff;stroke-linecap:square;stroke-linejoin:miter;stroke-width:1.25;\"/>\n   </g>\n   <g id=\"text_21\">\n    <!-- salary distribution of employee -->\n    <defs>\n     <path id=\"ArialMT-20\"/>\n     <path d=\"M 40.234375 0 \nL 40.234375 6.546875 \nQ 35.296875 -1.171875 25.734375 -1.171875 \nQ 19.53125 -1.171875 14.328125 2.25 \nQ 9.125 5.671875 6.265625 11.796875 \nQ 3.421875 17.921875 3.421875 25.875 \nQ 3.421875 33.640625 6 39.96875 \nQ 8.59375 46.296875 13.765625 49.65625 \nQ 18.953125 53.03125 25.34375 53.03125 \nQ 30.03125 53.03125 33.6875 51.046875 \nQ 37.359375 49.078125 39.65625 45.90625 \nL 39.65625 71.578125 \nL 48.390625 71.578125 \nL 48.390625 0 \nz\nM 12.453125 25.875 \nQ 12.453125 15.921875 16.640625 10.984375 \nQ 20.84375 6.0625 26.5625 6.0625 \nQ 32.328125 6.0625 36.34375 10.765625 \nQ 40.375 15.484375 40.375 25.140625 \nQ 40.375 35.796875 36.265625 40.765625 \nQ 32.171875 45.75 26.171875 45.75 \nQ 20.3125 45.75 16.375 40.96875 \nQ 12.453125 36.1875 12.453125 25.875 \nz\n\" id=\"ArialMT-64\"/>\n     <path d=\"M 6.640625 61.46875 \nL 6.640625 71.578125 \nL 15.4375 71.578125 \nL 15.4375 61.46875 \nz\nM 6.640625 0 \nL 6.640625 51.859375 \nL 15.4375 51.859375 \nL 15.4375 0 \nz\n\" id=\"ArialMT-69\"/>\n     <path d=\"M 25.78125 7.859375 \nL 27.046875 0.09375 \nQ 23.34375 -0.6875 20.40625 -0.6875 \nQ 15.625 -0.6875 12.984375 0.828125 \nQ 10.359375 2.34375 9.28125 4.8125 \nQ 8.203125 7.28125 8.203125 15.1875 \nL 8.203125 45.015625 \nL 1.765625 45.015625 \nL 1.765625 51.859375 \nL 8.203125 51.859375 \nL 8.203125 64.703125 \nL 16.9375 69.96875 \nL 16.9375 51.859375 \nL 25.78125 51.859375 \nL 25.78125 45.015625 \nL 16.9375 45.015625 \nL 16.9375 14.703125 \nQ 16.9375 10.9375 17.40625 9.859375 \nQ 17.875 8.796875 18.921875 8.15625 \nQ 19.96875 7.515625 21.921875 7.515625 \nQ 23.390625 7.515625 25.78125 7.859375 \nz\n\" id=\"ArialMT-74\"/>\n     <path d=\"M 14.703125 0 \nL 6.546875 0 \nL 6.546875 71.578125 \nL 15.328125 71.578125 \nL 15.328125 46.046875 \nQ 20.90625 53.03125 29.546875 53.03125 \nQ 34.328125 53.03125 38.59375 51.09375 \nQ 42.875 49.171875 45.625 45.671875 \nQ 48.390625 42.1875 49.953125 37.25 \nQ 51.515625 32.328125 51.515625 26.703125 \nQ 51.515625 13.375 44.921875 6.09375 \nQ 38.328125 -1.171875 29.109375 -1.171875 \nQ 19.921875 -1.171875 14.703125 6.5 \nz\nM 14.59375 26.3125 \nQ 14.59375 17 17.140625 12.84375 \nQ 21.296875 6.0625 28.375 6.0625 \nQ 34.125 6.0625 38.328125 11.0625 \nQ 42.53125 16.0625 42.53125 25.984375 \nQ 42.53125 36.140625 38.5 40.96875 \nQ 34.46875 45.796875 28.765625 45.796875 \nQ 23 45.796875 18.796875 40.796875 \nQ 14.59375 35.796875 14.59375 26.3125 \nz\n\" id=\"ArialMT-62\"/>\n     <path d=\"M 40.578125 0 \nL 40.578125 7.625 \nQ 34.515625 -1.171875 24.125 -1.171875 \nQ 19.53125 -1.171875 15.546875 0.578125 \nQ 11.578125 2.34375 9.640625 5 \nQ 7.71875 7.671875 6.9375 11.53125 \nQ 6.390625 14.109375 6.390625 19.734375 \nL 6.390625 51.859375 \nL 15.1875 51.859375 \nL 15.1875 23.09375 \nQ 15.1875 16.21875 15.71875 13.8125 \nQ 16.546875 10.359375 19.234375 8.375 \nQ 21.921875 6.390625 25.875 6.390625 \nQ 29.828125 6.390625 33.296875 8.421875 \nQ 36.765625 10.453125 38.203125 13.9375 \nQ 39.65625 17.4375 39.65625 24.078125 \nL 39.65625 51.859375 \nL 48.4375 51.859375 \nL 48.4375 0 \nz\n\" id=\"ArialMT-75\"/>\n     <path d=\"M 3.328125 25.921875 \nQ 3.328125 40.328125 11.328125 47.265625 \nQ 18.015625 53.03125 27.640625 53.03125 \nQ 38.328125 53.03125 45.109375 46.015625 \nQ 51.90625 39.015625 51.90625 26.65625 \nQ 51.90625 16.65625 48.90625 10.90625 \nQ 45.90625 5.171875 40.15625 2 \nQ 34.421875 -1.171875 27.640625 -1.171875 \nQ 16.75 -1.171875 10.03125 5.8125 \nQ 3.328125 12.796875 3.328125 25.921875 \nz\nM 12.359375 25.921875 \nQ 12.359375 15.96875 16.703125 11.015625 \nQ 21.046875 6.0625 27.640625 6.0625 \nQ 34.1875 6.0625 38.53125 11.03125 \nQ 42.875 16.015625 42.875 26.21875 \nQ 42.875 35.84375 38.5 40.796875 \nQ 34.125 45.75 27.640625 45.75 \nQ 21.046875 45.75 16.703125 40.8125 \nQ 12.359375 35.890625 12.359375 25.921875 \nz\n\" id=\"ArialMT-6f\"/>\n     <path d=\"M 6.59375 0 \nL 6.59375 51.859375 \nL 14.5 51.859375 \nL 14.5 44.484375 \nQ 20.21875 53.03125 31 53.03125 \nQ 35.6875 53.03125 39.625 51.34375 \nQ 43.5625 49.65625 45.515625 46.921875 \nQ 47.46875 44.1875 48.25 40.4375 \nQ 48.734375 37.984375 48.734375 31.890625 \nL 48.734375 0 \nL 39.9375 0 \nL 39.9375 31.546875 \nQ 39.9375 36.921875 38.90625 39.578125 \nQ 37.890625 42.234375 35.28125 43.8125 \nQ 32.671875 45.40625 29.15625 45.40625 \nQ 23.53125 45.40625 19.453125 41.84375 \nQ 15.375 38.28125 15.375 28.328125 \nL 15.375 0 \nz\n\" id=\"ArialMT-6e\"/>\n     <path d=\"M 8.6875 0 \nL 8.6875 45.015625 \nL 0.921875 45.015625 \nL 0.921875 51.859375 \nL 8.6875 51.859375 \nL 8.6875 57.375 \nQ 8.6875 62.59375 9.625 65.140625 \nQ 10.890625 68.5625 14.078125 70.671875 \nQ 17.28125 72.796875 23.046875 72.796875 \nQ 26.765625 72.796875 31.25 71.921875 \nL 29.9375 64.265625 \nQ 27.203125 64.75 24.75 64.75 \nQ 20.75 64.75 19.09375 63.03125 \nQ 17.4375 61.328125 17.4375 56.640625 \nL 17.4375 51.859375 \nL 27.546875 51.859375 \nL 27.546875 45.015625 \nL 17.4375 45.015625 \nL 17.4375 0 \nz\n\" id=\"ArialMT-66\"/>\n     <path d=\"M 42.09375 16.703125 \nL 51.171875 15.578125 \nQ 49.03125 7.625 43.21875 3.21875 \nQ 37.40625 -1.171875 28.375 -1.171875 \nQ 17 -1.171875 10.328125 5.828125 \nQ 3.65625 12.84375 3.65625 25.484375 \nQ 3.65625 38.578125 10.390625 45.796875 \nQ 17.140625 53.03125 27.875 53.03125 \nQ 38.28125 53.03125 44.875 45.953125 \nQ 51.46875 38.875 51.46875 26.03125 \nQ 51.46875 25.25 51.421875 23.6875 \nL 12.75 23.6875 \nQ 13.234375 15.140625 17.578125 10.59375 \nQ 21.921875 6.0625 28.421875 6.0625 \nQ 33.25 6.0625 36.671875 8.59375 \nQ 40.09375 11.140625 42.09375 16.703125 \nz\nM 13.234375 30.90625 \nL 42.1875 30.90625 \nQ 41.609375 37.453125 38.875 40.71875 \nQ 34.671875 45.796875 27.984375 45.796875 \nQ 21.921875 45.796875 17.796875 41.75 \nQ 13.671875 37.703125 13.234375 30.90625 \nz\n\" id=\"ArialMT-65\"/>\n     <path d=\"M 6.59375 0 \nL 6.59375 51.859375 \nL 14.453125 51.859375 \nL 14.453125 44.578125 \nQ 16.890625 48.390625 20.9375 50.703125 \nQ 25 53.03125 30.171875 53.03125 \nQ 35.9375 53.03125 39.625 50.640625 \nQ 43.3125 48.25 44.828125 43.953125 \nQ 50.984375 53.03125 60.84375 53.03125 \nQ 68.5625 53.03125 72.703125 48.75 \nQ 76.859375 44.484375 76.859375 35.59375 \nL 76.859375 0 \nL 68.109375 0 \nL 68.109375 32.671875 \nQ 68.109375 37.9375 67.25 40.25 \nQ 66.40625 42.578125 64.15625 43.984375 \nQ 61.921875 45.40625 58.890625 45.40625 \nQ 53.421875 45.40625 49.796875 41.765625 \nQ 46.1875 38.140625 46.1875 30.125 \nL 46.1875 0 \nL 37.40625 0 \nL 37.40625 33.6875 \nQ 37.40625 39.546875 35.25 42.46875 \nQ 33.109375 45.40625 28.21875 45.40625 \nQ 24.515625 45.40625 21.359375 43.453125 \nQ 18.21875 41.5 16.796875 37.734375 \nQ 15.375 33.984375 15.375 26.90625 \nL 15.375 0 \nz\n\" id=\"ArialMT-6d\"/>\n     <path d=\"M 6.59375 -19.875 \nL 6.59375 51.859375 \nL 14.59375 51.859375 \nL 14.59375 45.125 \nQ 17.4375 49.078125 21 51.046875 \nQ 24.5625 53.03125 29.640625 53.03125 \nQ 36.28125 53.03125 41.359375 49.609375 \nQ 46.4375 46.1875 49.015625 39.953125 \nQ 51.609375 33.734375 51.609375 26.3125 \nQ 51.609375 18.359375 48.75 11.984375 \nQ 45.90625 5.609375 40.453125 2.21875 \nQ 35.015625 -1.171875 29 -1.171875 \nQ 24.609375 -1.171875 21.109375 0.6875 \nQ 17.625 2.546875 15.375 5.375 \nL 15.375 -19.875 \nz\nM 14.546875 25.640625 \nQ 14.546875 15.625 18.59375 10.84375 \nQ 22.65625 6.0625 28.421875 6.0625 \nQ 34.28125 6.0625 38.453125 11.015625 \nQ 42.625 15.96875 42.625 26.375 \nQ 42.625 36.28125 38.546875 41.203125 \nQ 34.46875 46.140625 28.8125 46.140625 \nQ 23.1875 46.140625 18.859375 40.890625 \nQ 14.546875 35.640625 14.546875 25.640625 \nz\n\" id=\"ArialMT-70\"/>\n    </defs>\n    <g style=\"fill:#262626;\" transform=\"translate(139.586406 15.935625)scale(0.12 -0.12)\">\n     <use xlink:href=\"#ArialMT-73\"/>\n     <use x=\"50\" xlink:href=\"#ArialMT-61\"/>\n     <use x=\"105.615234\" xlink:href=\"#ArialMT-6c\"/>\n     <use x=\"127.832031\" xlink:href=\"#ArialMT-61\"/>\n     <use x=\"183.447266\" xlink:href=\"#ArialMT-72\"/>\n     <use x=\"216.748047\" xlink:href=\"#ArialMT-79\"/>\n     <use x=\"266.748047\" xlink:href=\"#ArialMT-20\"/>\n     <use x=\"294.53125\" xlink:href=\"#ArialMT-64\"/>\n     <use x=\"350.146484\" xlink:href=\"#ArialMT-69\"/>\n     <use x=\"372.363281\" xlink:href=\"#ArialMT-73\"/>\n     <use x=\"422.363281\" xlink:href=\"#ArialMT-74\"/>\n     <use x=\"450.146484\" xlink:href=\"#ArialMT-72\"/>\n     <use x=\"483.447266\" xlink:href=\"#ArialMT-69\"/>\n     <use x=\"505.664062\" xlink:href=\"#ArialMT-62\"/>\n     <use x=\"561.279297\" xlink:href=\"#ArialMT-75\"/>\n     <use x=\"616.894531\" xlink:href=\"#ArialMT-74\"/>\n     <use x=\"644.677734\" xlink:href=\"#ArialMT-69\"/>\n     <use x=\"666.894531\" xlink:href=\"#ArialMT-6f\"/>\n     <use x=\"722.509766\" xlink:href=\"#ArialMT-6e\"/>\n     <use x=\"778.125\" xlink:href=\"#ArialMT-20\"/>\n     <use x=\"805.908203\" xlink:href=\"#ArialMT-6f\"/>\n     <use x=\"861.523438\" xlink:href=\"#ArialMT-66\"/>\n     <use x=\"889.306641\" xlink:href=\"#ArialMT-20\"/>\n     <use x=\"917.089844\" xlink:href=\"#ArialMT-65\"/>\n     <use x=\"972.705078\" xlink:href=\"#ArialMT-6d\"/>\n     <use x=\"1056.005859\" xlink:href=\"#ArialMT-70\"/>\n     <use x=\"1111.621094\" xlink:href=\"#ArialMT-6c\"/>\n     <use x=\"1133.837891\" xlink:href=\"#ArialMT-6f\"/>\n     <use x=\"1189.453125\" xlink:href=\"#ArialMT-79\"/>\n     <use x=\"1239.453125\" xlink:href=\"#ArialMT-65\"/>\n     <use x=\"1295.068359\" xlink:href=\"#ArialMT-65\"/>\n    </g>\n   </g>\n  </g>\n </g>\n <defs>\n  <clipPath id=\"p796a633345\">\n   <rect height=\"217.44\" width=\"334.8\" x=\"53.222031\" y=\"21.935625\"/>\n  </clipPath>\n </defs>\n</svg>\n",
      "text/plain": "<Figure size 432x288 with 1 Axes>"
     },
     "metadata": {},
     "output_type": "display_data"
    }
   ],
   "source": [
    "import matplotlib.pyplot as plt\n",
    "import seaborn\n",
    "\n",
    "seaborn.set()\n",
    "\n",
    "plt.hist(salary)\n",
    "plt.title('salary distribution of employee')\n",
    "plt.xlabel('salary')\n",
    "plt.ylabel('salary')\n",
    "\n",
    "print salary"
   ]
  },
  {
   "cell_type": "code",
   "execution_count": null,
   "metadata": {},
   "outputs": [],
   "source": []
  }
 ]
}