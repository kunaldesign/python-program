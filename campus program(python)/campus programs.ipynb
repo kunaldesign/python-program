{
 "cells": [
  {
   "cell_type": "markdown",
   "metadata": {},
   "source": [
    ">>>>>>>>>##<u>Campus Program</u>"
   ]
  },
  {
   "cell_type": "markdown",
   "metadata": {},
   "source": [
    "### program 1\n",
    "Swapping of two numbers."
   ]
  },
  {
   "cell_type": "code",
   "execution_count": 13,
   "metadata": {},
   "outputs": [
    {
     "name": "stdout",
     "output_type": "stream",
     "text": "After swapping:\n1st number will be 23 \n2nd number will be 12\n"
    }
   ],
   "source": [
    "a=int(input(\"enter the 1st number: \"))\n",
    "b=int(input(\"enter the 2nd number: \"))\n",
    "a=a+b\n",
    "b=a-b\n",
    "a=a-b\n",
    "print \"After swapping:\\n1st number will be %d\"%a,\"\\n2nd number will be %d\"%b"
   ]
  },
  {
   "cell_type": "markdown",
   "metadata": {},
   "source": [
    "### program 2\n",
    "Find greatest amoung three number."
   ]
  },
  {
   "cell_type": "code",
   "execution_count": 19,
   "metadata": {},
   "outputs": [
    {
     "name": "stdout",
     "output_type": "stream",
     "text": "34 is greater\n"
    }
   ],
   "source": [
    "a=int(input(\"enter the 1st number: \"))\n",
    "b=int(input(\"enter the 2nd number: \"))\n",
    "c=int(input(\"enter the 3nd number: \"))\n",
    "if(a>b) and (a>c):\n",
    "    print '%d is greater'%a\n",
    "elif(b>a) and (b>c):\n",
    "    print '%d is greater'%b\n",
    "else:\n",
    "    print '%d is greater'%c"
   ]
  },
  {
   "cell_type": "markdown",
   "metadata": {},
   "source": [
    "### program 3\n",
    "Find that a year is a leap year."
   ]
  },
  {
   "cell_type": "code",
   "execution_count": 24,
   "metadata": {},
   "outputs": [
    {
     "name": "stdout",
     "output_type": "stream",
     "text": "1988 is a leap year.\n"
    }
   ],
   "source": [
    "year=int(input(\"enter a year (YYYY): \"))\n",
    "if(year%4==0):\n",
    "    if(year%100==0):\n",
    "        if(year%400==0):\n",
    "            print '%d is a leap year.'%year\n",
    "        else:\n",
    "            print '%d is not a leap year.'%year\n",
    "    else:\n",
    "        print '%d is a leap year.'%year\n",
    "else:\n",
    "    print '%d is not a leap year.'%year"
   ]
  },
  {
   "cell_type": "markdown",
   "metadata": {},
   "source": [
    "### program 4\n",
    "Make a calculator"
   ]
  },
  {
   "cell_type": "code",
   "execution_count": 27,
   "metadata": {},
   "outputs": [
    {
     "name": "stdout",
     "output_type": "stream",
     "text": "Calculator:\n1.Addition\n2.Substraction\n3.Multiplication\n4.Division\n5.Modulus\n\nModulus= 2\n"
    }
   ],
   "source": [
    "print 'Calculator:\\n1.Addition\\n2.Substraction\\n3.Multiplication\\n4.Division\\n5.Modulus'\n",
    "\n",
    "#input choice\n",
    "ch=int(input(\"Enter Choice(1-4): \"))\n",
    "\n",
    "if ch==1:\n",
    "    a=int(input(\"enter the 1st number: \"))\n",
    "    b=int(input(\"enter the 2nd number: \"))\n",
    "    c=a+b\n",
    "    print(\"\\nAddtion= %d\"%c)\n",
    "elif ch==2:\n",
    "    a=int(input(\"enter the 1st number: \"))\n",
    "    b=int(input(\"enter the 2nd number: \"))\n",
    "    c=a-b\n",
    "    print(\"\\nSubstraction= %d\"%c)\n",
    "elif ch==3:\n",
    "    a=int(input(\"enter the 1st number: \"))\n",
    "    b=int(input(\"enter the 2nd number: \"))\n",
    "    c=a*b\n",
    "    print(\"\\nMultiplication= %d\"%c)\n",
    "elif ch==4:\n",
    "    a=int(input(\"enter the 1st number: \"))\n",
    "    b=int(input(\"enter the 2nd number: \"))\n",
    "    c=a/b\n",
    "    print(\"\\nDivision= %d\"%c)\n",
    "elif ch==5:\n",
    "    a=int(input(\"enter the 1st number: \"))\n",
    "    b=int(input(\"enter the 2nd number: \"))\n",
    "    c=a%b\n",
    "    print(\"\\nModulus= %d\"%c)\n",
    "else:\n",
    "    print('\\ninvalde input')\n"
   ]
  },
  {
   "cell_type": "markdown",
   "metadata": {},
   "source": [
    "### Program 5\n",
    "print table of a number.\n"
   ]
  },
  {
   "cell_type": "code",
   "execution_count": 8,
   "metadata": {},
   "outputs": [
    {
     "name": "stdout",
     "output_type": "stream",
     "text": "2 * 1 = 2\n2 * 2 = 4\n2 * 3 = 6\n2 * 4 = 8\n2 * 5 = 10\n2 * 6 = 12\n2 * 7 = 14\n2 * 8 = 16\n2 * 9 = 18\n2 * 10 = 20\n"
    }
   ],
   "source": [
    "num=int(input(\"enter the number: \"))\n",
    "for i in range(1,11):\n",
    "    print num,'*',i,'=',i*num"
   ]
  },
  {
   "cell_type": "code",
   "execution_count": 9,
   "metadata": {},
   "outputs": [
    {
     "name": "stdout",
     "output_type": "stream",
     "text": "reverse number is 321\n"
    }
   ],
   "source": [
    "num=int(input('enter the number: '))\n",
    "rev=0\n",
    "while num!=0:\n",
    "    rem=num%10\n",
    "    rev=rev*10+rem\n",
    "    num=num/10\n",
    "print 'reverse number is %d'%rev"
   ]
  },
  {
   "cell_type": "markdown",
   "metadata": {},
   "source": [
    "### Program 7\n",
    "Find that a number is prime or not."
   ]
  },
  {
   "cell_type": "code",
   "execution_count": 3,
   "metadata": {},
   "outputs": [
    {
     "name": "stdout",
     "output_type": "stream",
     "text": "23 is a prime number\n"
    }
   ],
   "source": [
    "num=int(input('enter the positive number: '))\n",
    "if num>1:\n",
    "    for i in range(2,num//2):\n",
    "        if(num%i)==0:\n",
    "            print num,\"is not a prime number.\"\n",
    "            break\n",
    "    else:\n",
    "            print num,\"is a prime number\"\n",
    "else:\n",
    "    print num,\"is not a\""
   ]
  },
  {
   "cell_type": "markdown",
   "metadata": {},
   "source": [
    "### Program 8\n",
    "Find that a number is armstorng or not. "
   ]
  },
  {
   "cell_type": "code",
   "execution_count": null,
   "metadata": {},
   "outputs": [],
   "source": [
    "num=int(input())"
   ]
  }
 ],
 "metadata": {
  "file_extension": ".py",
  "kernelspec": {
   "display_name": "Python 2.7.17 32-bit",
   "language": "python",
   "name": "python271732bitb0c4d7198b644b17a9fa1547d038dfd6"
  },
  "language_info": {
   "codemirror_mode": {
    "name": "ipython",
    "version": 2
   },
   "file_extension": ".py",
   "mimetype": "text/x-python",
   "name": "python",
   "nbconvert_exporter": "python",
   "pygments_lexer": "ipython2",
   "version": "2.7.17-final"
  },
  "mimetype": "text/x-python",
  "name": "python",
  "npconvert_exporter": "python",
  "pygments_lexer": "ipython2",
  "version": 2
 },
 "nbformat": 4,
 "nbformat_minor": 2
}