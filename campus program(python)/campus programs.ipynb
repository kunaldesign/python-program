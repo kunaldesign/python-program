{
 "cells": [
  {
   "cell_type": "markdown",
   "metadata": {},
   "source": [
    ">>>>>>>## <u>Campus Program</u>"
   ]
  },
  {
   "cell_type": "markdown",
   "metadata": {},
   "source": [
    "### program 1\n",
    "Swapping of two numbers."
   ]
  },
  {
   "cell_type": "code",
   "execution_count": 13,
   "metadata": {},
   "outputs": [
    {
     "name": "stdout",
     "output_type": "stream",
     "text": "After swapping:\n1st number will be 23 \n2nd number will be 12\n"
    }
   ],
   "source": [
    "a=int(input(\"enter the 1st number: \"))\n",
    "b=int(input(\"enter the 2nd number: \"))\n",
    "a=a+b\n",
    "b=a-b\n",
    "a=a-b\n",
    "print \"After swapping:\\n1st number will be %d\"%a,\"\\n2nd number will be %d\"%b"
   ]
  },
  {
   "cell_type": "markdown",
   "metadata": {},
   "source": [
    "### program 2\n",
    "Find greatest amoung three number."
   ]
  },
  {
   "cell_type": "code",
   "execution_count": 19,
   "metadata": {},
   "outputs": [
    {
     "name": "stdout",
     "output_type": "stream",
     "text": "34 is greater\n"
    }
   ],
   "source": [
    "a=int(input(\"enter the 1st number: \"))\n",
    "b=int(input(\"enter the 2nd number: \"))\n",
    "c=int(input(\"enter the 3nd number: \"))\n",
    "if(a>b) and (a>c):\n",
    "    print '%d is greater'%a\n",
    "elif(b>a) and (b>c):\n",
    "    print '%d is greater'%b\n",
    "else:\n",
    "    print '%d is greater'%c"
   ]
  },
  {
   "cell_type": "markdown",
   "metadata": {},
   "source": [
    "### program 3\n",
    "Find that a year is a leap year."
   ]
  },
  {
   "cell_type": "code",
   "execution_count": 24,
   "metadata": {},
   "outputs": [
    {
     "name": "stdout",
     "output_type": "stream",
     "text": "1988 is a leap year.\n"
    }
   ],
   "source": [
    "year=int(input(\"enter a year (YYYY): \"))\n",
    "if(year%4==0):\n",
    "    if(year%100==0):\n",
    "        if(year%400==0):\n",
    "            print '%d is a leap year.'%year\n",
    "        else:\n",
    "            print '%d is not a leap year.'%year\n",
    "    else:\n",
    "        print '%d is a leap year.'%year\n",
    "else:\n",
    "    print '%d is not a leap year.'%year"
   ]
  },
  {
   "cell_type": "markdown",
   "metadata": {},
   "source": [
    "### program 4\n",
    "Make a calculator using switch case"
   ]
  },
  {
   "cell_type": "code",
   "execution_count": null,
   "metadata": {},
   "outputs": [],
   "source": []
  }
 ],
 "metadata": {
  "file_extension": ".py",
  "kernelspec": {
   "display_name": "Python 2.7.17 32-bit",
   "language": "python",
   "name": "python271732bitb0c4d7198b644b17a9fa1547d038dfd6"
  },
  "language_info": {
   "codemirror_mode": {
    "name": "ipython",
    "version": 2
   },
   "file_extension": ".py",
   "mimetype": "text/x-python",
   "name": "python",
   "nbconvert_exporter": "python",
   "pygments_lexer": "ipython2",
   "version": "2.7.17-final"
  },
  "mimetype": "text/x-python",
  "name": "python",
  "npconvert_exporter": "python",
  "pygments_lexer": "ipython2",
  "version": 2
 },
 "nbformat": 4,
 "nbformat_minor": 2
}